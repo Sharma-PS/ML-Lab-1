{
 "cells": [
  {
   "cell_type": "markdown",
   "id": "737178e0",
   "metadata": {
    "toc": true
   },
   "source": [
    "<h1>Table of Contents<span class=\"tocSkip\"></span></h1>\n",
    "<div class=\"toc\"><ul class=\"toc-item\"><li><span><a href=\"#EDA\" data-toc-modified-id=\"EDA-1\"><span class=\"toc-item-num\">1&nbsp;&nbsp;</span>EDA</a></span><ul class=\"toc-item\"><li><span><a href=\"#missing-values\" data-toc-modified-id=\"missing-values-1.1\"><span class=\"toc-item-num\">1.1&nbsp;&nbsp;</span>missing values</a></span></li><li><span><a href=\"#target\" data-toc-modified-id=\"target-1.2\"><span class=\"toc-item-num\">1.2&nbsp;&nbsp;</span>target</a></span></li></ul></li><li><span><a href=\"#Feature-Imputation-(Missing-Values)\" data-toc-modified-id=\"Feature-Imputation-(Missing-Values)-2\"><span class=\"toc-item-num\">2&nbsp;&nbsp;</span>Feature Imputation (Missing Values)</a></span></li><li><span><a href=\"#Feature-Cross\" data-toc-modified-id=\"Feature-Cross-3\"><span class=\"toc-item-num\">3&nbsp;&nbsp;</span>Feature Cross</a></span></li><li><span><a href=\"#Feature-Scaling\" data-toc-modified-id=\"Feature-Scaling-4\"><span class=\"toc-item-num\">4&nbsp;&nbsp;</span>Feature Scaling</a></span></li><li><span><a href=\"#Model\" data-toc-modified-id=\"Model-5\"><span class=\"toc-item-num\">5&nbsp;&nbsp;</span>Model</a></span></li><li><span><a href=\"#Save-Dataframe\" data-toc-modified-id=\"Save-Dataframe-6\"><span class=\"toc-item-num\">6&nbsp;&nbsp;</span>Save Dataframe</a></span></li></ul></div>"
   ]
  },
  {
   "cell_type": "code",
   "execution_count": 1,
   "id": "12e4b63c",
   "metadata": {},
   "outputs": [],
   "source": [
    "import pandas as pd\n",
    "import numpy as np\n",
    "import matplotlib.pyplot as plt"
   ]
  },
  {
   "cell_type": "code",
   "execution_count": 2,
   "id": "49491e2a",
   "metadata": {},
   "outputs": [],
   "source": [
    "import warnings\n",
    "warnings.filterwarnings('ignore')"
   ]
  },
  {
   "cell_type": "code",
   "execution_count": 3,
   "id": "3df18d9b",
   "metadata": {},
   "outputs": [],
   "source": [
    "pd.set_option('display.max_columns', None)"
   ]
  },
  {
   "cell_type": "code",
   "execution_count": 4,
   "id": "e2c8f8d0",
   "metadata": {},
   "outputs": [],
   "source": [
    "train = pd.read_csv('train.csv')\n",
    "test = pd.read_csv('test.csv')"
   ]
  },
  {
   "cell_type": "markdown",
   "id": "fe200adc",
   "metadata": {},
   "source": [
    "## EDA"
   ]
  },
  {
   "cell_type": "code",
   "execution_count": 5,
   "id": "f5041833",
   "metadata": {},
   "outputs": [
    {
     "data": {
      "text/html": [
       "<div>\n",
       "<style scoped>\n",
       "    .dataframe tbody tr th:only-of-type {\n",
       "        vertical-align: middle;\n",
       "    }\n",
       "\n",
       "    .dataframe tbody tr th {\n",
       "        vertical-align: top;\n",
       "    }\n",
       "\n",
       "    .dataframe thead th {\n",
       "        text-align: right;\n",
       "    }\n",
       "</style>\n",
       "<table border=\"1\" class=\"dataframe\">\n",
       "  <thead>\n",
       "    <tr style=\"text-align: right;\">\n",
       "      <th></th>\n",
       "      <th>x1</th>\n",
       "      <th>x2</th>\n",
       "      <th>x3</th>\n",
       "      <th>x4</th>\n",
       "      <th>x5</th>\n",
       "      <th>x6</th>\n",
       "      <th>x7</th>\n",
       "      <th>x8</th>\n",
       "      <th>x9</th>\n",
       "      <th>x10</th>\n",
       "      <th>x11</th>\n",
       "      <th>x12</th>\n",
       "      <th>x13</th>\n",
       "      <th>x14</th>\n",
       "      <th>x15</th>\n",
       "      <th>y</th>\n",
       "    </tr>\n",
       "  </thead>\n",
       "  <tbody>\n",
       "    <tr>\n",
       "      <th>0</th>\n",
       "      <td>5.2</td>\n",
       "      <td>0.34</td>\n",
       "      <td>0.37</td>\n",
       "      <td>66.5</td>\n",
       "      <td>6.2</td>\n",
       "      <td>0.031</td>\n",
       "      <td>0.995369</td>\n",
       "      <td>42.0</td>\n",
       "      <td>0.511883</td>\n",
       "      <td>1.02</td>\n",
       "      <td>133.0</td>\n",
       "      <td>0.99076</td>\n",
       "      <td>3.25</td>\n",
       "      <td>0.41</td>\n",
       "      <td>12.5</td>\n",
       "      <td>6</td>\n",
       "    </tr>\n",
       "    <tr>\n",
       "      <th>1</th>\n",
       "      <td>6.1</td>\n",
       "      <td>0.41</td>\n",
       "      <td>0.00</td>\n",
       "      <td>43.5</td>\n",
       "      <td>1.6</td>\n",
       "      <td>0.063</td>\n",
       "      <td>0.995691</td>\n",
       "      <td>36.0</td>\n",
       "      <td>0.514548</td>\n",
       "      <td>1.23</td>\n",
       "      <td>87.0</td>\n",
       "      <td>0.99140</td>\n",
       "      <td>3.27</td>\n",
       "      <td>0.67</td>\n",
       "      <td>10.8</td>\n",
       "      <td>6</td>\n",
       "    </tr>\n",
       "    <tr>\n",
       "      <th>2</th>\n",
       "      <td>7.5</td>\n",
       "      <td>0.26</td>\n",
       "      <td>0.30</td>\n",
       "      <td>46.0</td>\n",
       "      <td>4.6</td>\n",
       "      <td>0.027</td>\n",
       "      <td>0.995414</td>\n",
       "      <td>29.0</td>\n",
       "      <td>0.498311</td>\n",
       "      <td>0.78</td>\n",
       "      <td>92.0</td>\n",
       "      <td>0.99085</td>\n",
       "      <td>3.15</td>\n",
       "      <td>0.38</td>\n",
       "      <td>12.0</td>\n",
       "      <td>7</td>\n",
       "    </tr>\n",
       "    <tr>\n",
       "      <th>3</th>\n",
       "      <td>7.4</td>\n",
       "      <td>0.20</td>\n",
       "      <td>0.29</td>\n",
       "      <td>50.0</td>\n",
       "      <td>1.7</td>\n",
       "      <td>0.047</td>\n",
       "      <td>0.996208</td>\n",
       "      <td>16.0</td>\n",
       "      <td>0.515874</td>\n",
       "      <td>0.60</td>\n",
       "      <td>100.0</td>\n",
       "      <td>0.99243</td>\n",
       "      <td>3.28</td>\n",
       "      <td>0.45</td>\n",
       "      <td>10.6</td>\n",
       "      <td>6</td>\n",
       "    </tr>\n",
       "    <tr>\n",
       "      <th>4</th>\n",
       "      <td>7.3</td>\n",
       "      <td>0.23</td>\n",
       "      <td>0.24</td>\n",
       "      <td>43.0</td>\n",
       "      <td>0.9</td>\n",
       "      <td>0.031</td>\n",
       "      <td>0.994616</td>\n",
       "      <td>29.0</td>\n",
       "      <td>0.462398</td>\n",
       "      <td>0.69</td>\n",
       "      <td>86.0</td>\n",
       "      <td>0.98926</td>\n",
       "      <td>2.90</td>\n",
       "      <td>0.38</td>\n",
       "      <td>12.2</td>\n",
       "      <td>6</td>\n",
       "    </tr>\n",
       "  </tbody>\n",
       "</table>\n",
       "</div>"
      ],
      "text/plain": [
       "    x1    x2    x3    x4   x5     x6        x7    x8        x9   x10    x11  \\\n",
       "0  5.2  0.34  0.37  66.5  6.2  0.031  0.995369  42.0  0.511883  1.02  133.0   \n",
       "1  6.1  0.41  0.00  43.5  1.6  0.063  0.995691  36.0  0.514548  1.23   87.0   \n",
       "2  7.5  0.26  0.30  46.0  4.6  0.027  0.995414  29.0  0.498311  0.78   92.0   \n",
       "3  7.4  0.20  0.29  50.0  1.7  0.047  0.996208  16.0  0.515874  0.60  100.0   \n",
       "4  7.3  0.23  0.24  43.0  0.9  0.031  0.994616  29.0  0.462398  0.69   86.0   \n",
       "\n",
       "       x12   x13   x14   x15  y  \n",
       "0  0.99076  3.25  0.41  12.5  6  \n",
       "1  0.99140  3.27  0.67  10.8  6  \n",
       "2  0.99085  3.15  0.38  12.0  7  \n",
       "3  0.99243  3.28  0.45  10.6  6  \n",
       "4  0.98926  2.90  0.38  12.2  6  "
      ]
     },
     "execution_count": 5,
     "metadata": {},
     "output_type": "execute_result"
    }
   ],
   "source": [
    "train.head()"
   ]
  },
  {
   "cell_type": "code",
   "execution_count": 6,
   "id": "5e5c3284",
   "metadata": {},
   "outputs": [
    {
     "data": {
      "text/html": [
       "<div>\n",
       "<style scoped>\n",
       "    .dataframe tbody tr th:only-of-type {\n",
       "        vertical-align: middle;\n",
       "    }\n",
       "\n",
       "    .dataframe tbody tr th {\n",
       "        vertical-align: top;\n",
       "    }\n",
       "\n",
       "    .dataframe thead th {\n",
       "        text-align: right;\n",
       "    }\n",
       "</style>\n",
       "<table border=\"1\" class=\"dataframe\">\n",
       "  <thead>\n",
       "    <tr style=\"text-align: right;\">\n",
       "      <th></th>\n",
       "      <th>x1</th>\n",
       "      <th>x2</th>\n",
       "      <th>x3</th>\n",
       "      <th>x4</th>\n",
       "      <th>x5</th>\n",
       "      <th>x6</th>\n",
       "      <th>x7</th>\n",
       "      <th>x8</th>\n",
       "      <th>x9</th>\n",
       "      <th>x10</th>\n",
       "      <th>x11</th>\n",
       "      <th>x12</th>\n",
       "      <th>x13</th>\n",
       "      <th>x14</th>\n",
       "      <th>x15</th>\n",
       "    </tr>\n",
       "  </thead>\n",
       "  <tbody>\n",
       "    <tr>\n",
       "      <th>0</th>\n",
       "      <td>7.0</td>\n",
       "      <td>0.53</td>\n",
       "      <td>0.02</td>\n",
       "      <td>53.5</td>\n",
       "      <td>1.0</td>\n",
       "      <td>0.036</td>\n",
       "      <td>0.996494</td>\n",
       "      <td>39.0</td>\n",
       "      <td>0.505150</td>\n",
       "      <td>1.59</td>\n",
       "      <td>107.0</td>\n",
       "      <td>0.99300</td>\n",
       "      <td>3.20</td>\n",
       "      <td>0.32</td>\n",
       "      <td>9.0</td>\n",
       "    </tr>\n",
       "    <tr>\n",
       "      <th>1</th>\n",
       "      <td>7.4</td>\n",
       "      <td>0.34</td>\n",
       "      <td>0.30</td>\n",
       "      <td>84.5</td>\n",
       "      <td>14.9</td>\n",
       "      <td>0.037</td>\n",
       "      <td>0.998489</td>\n",
       "      <td>70.0</td>\n",
       "      <td>0.511883</td>\n",
       "      <td>1.02</td>\n",
       "      <td>169.0</td>\n",
       "      <td>0.99698</td>\n",
       "      <td>3.25</td>\n",
       "      <td>0.37</td>\n",
       "      <td>10.4</td>\n",
       "    </tr>\n",
       "    <tr>\n",
       "      <th>2</th>\n",
       "      <td>7.0</td>\n",
       "      <td>0.27</td>\n",
       "      <td>0.29</td>\n",
       "      <td>99.5</td>\n",
       "      <td>3.9</td>\n",
       "      <td>0.059</td>\n",
       "      <td>0.998048</td>\n",
       "      <td>28.0</td>\n",
       "      <td>0.549003</td>\n",
       "      <td>0.81</td>\n",
       "      <td>199.0</td>\n",
       "      <td>0.99610</td>\n",
       "      <td>3.54</td>\n",
       "      <td>0.59</td>\n",
       "      <td>10.3</td>\n",
       "    </tr>\n",
       "    <tr>\n",
       "      <th>3</th>\n",
       "      <td>5.9</td>\n",
       "      <td>0.25</td>\n",
       "      <td>0.27</td>\n",
       "      <td>40.5</td>\n",
       "      <td>1.5</td>\n",
       "      <td>0.029</td>\n",
       "      <td>0.994585</td>\n",
       "      <td>37.0</td>\n",
       "      <td>0.505150</td>\n",
       "      <td>0.75</td>\n",
       "      <td>81.0</td>\n",
       "      <td>0.98920</td>\n",
       "      <td>3.20</td>\n",
       "      <td>0.46</td>\n",
       "      <td>12.2</td>\n",
       "    </tr>\n",
       "    <tr>\n",
       "      <th>4</th>\n",
       "      <td>6.6</td>\n",
       "      <td>0.30</td>\n",
       "      <td>0.24</td>\n",
       "      <td>60.5</td>\n",
       "      <td>1.2</td>\n",
       "      <td>0.034</td>\n",
       "      <td>0.996644</td>\n",
       "      <td>17.0</td>\n",
       "      <td>0.495544</td>\n",
       "      <td>0.90</td>\n",
       "      <td>121.0</td>\n",
       "      <td>0.99330</td>\n",
       "      <td>3.13</td>\n",
       "      <td>0.36</td>\n",
       "      <td>9.2</td>\n",
       "    </tr>\n",
       "  </tbody>\n",
       "</table>\n",
       "</div>"
      ],
      "text/plain": [
       "    x1    x2    x3    x4    x5     x6        x7    x8        x9   x10    x11  \\\n",
       "0  7.0  0.53  0.02  53.5   1.0  0.036  0.996494  39.0  0.505150  1.59  107.0   \n",
       "1  7.4  0.34  0.30  84.5  14.9  0.037  0.998489  70.0  0.511883  1.02  169.0   \n",
       "2  7.0  0.27  0.29  99.5   3.9  0.059  0.998048  28.0  0.549003  0.81  199.0   \n",
       "3  5.9  0.25  0.27  40.5   1.5  0.029  0.994585  37.0  0.505150  0.75   81.0   \n",
       "4  6.6  0.30  0.24  60.5   1.2  0.034  0.996644  17.0  0.495544  0.90  121.0   \n",
       "\n",
       "       x12   x13   x14   x15  \n",
       "0  0.99300  3.20  0.32   9.0  \n",
       "1  0.99698  3.25  0.37  10.4  \n",
       "2  0.99610  3.54  0.59  10.3  \n",
       "3  0.98920  3.20  0.46  12.2  \n",
       "4  0.99330  3.13  0.36   9.2  "
      ]
     },
     "execution_count": 6,
     "metadata": {},
     "output_type": "execute_result"
    }
   ],
   "source": [
    "test.head()"
   ]
  },
  {
   "cell_type": "code",
   "execution_count": 7,
   "id": "5a32448c",
   "metadata": {},
   "outputs": [
    {
     "data": {
      "text/plain": [
       "(3265, 16)"
      ]
     },
     "execution_count": 7,
     "metadata": {},
     "output_type": "execute_result"
    }
   ],
   "source": [
    "train.shape"
   ]
  },
  {
   "cell_type": "code",
   "execution_count": 8,
   "id": "8f680b40",
   "metadata": {},
   "outputs": [
    {
     "data": {
      "text/plain": [
       "(1633, 15)"
      ]
     },
     "execution_count": 8,
     "metadata": {},
     "output_type": "execute_result"
    }
   ],
   "source": [
    "test.shape"
   ]
  },
  {
   "cell_type": "code",
   "execution_count": 9,
   "id": "f53a69a7",
   "metadata": {},
   "outputs": [
    {
     "name": "stdout",
     "output_type": "stream",
     "text": [
      "<class 'pandas.core.frame.DataFrame'>\n",
      "RangeIndex: 3265 entries, 0 to 3264\n",
      "Data columns (total 16 columns):\n",
      " #   Column  Non-Null Count  Dtype  \n",
      "---  ------  --------------  -----  \n",
      " 0   x1      3258 non-null   float64\n",
      " 1   x2      3261 non-null   float64\n",
      " 2   x3      3253 non-null   float64\n",
      " 3   x4      3265 non-null   float64\n",
      " 4   x5      3248 non-null   float64\n",
      " 5   x6      3258 non-null   float64\n",
      " 6   x7      3262 non-null   float64\n",
      " 7   x8      3246 non-null   float64\n",
      " 8   x9      3263 non-null   float64\n",
      " 9   x10     3261 non-null   float64\n",
      " 10  x11     3265 non-null   float64\n",
      " 11  x12     3264 non-null   float64\n",
      " 12  x13     3265 non-null   float64\n",
      " 13  x14     3265 non-null   float64\n",
      " 14  x15     3191 non-null   float64\n",
      " 15  y       3265 non-null   int64  \n",
      "dtypes: float64(15), int64(1)\n",
      "memory usage: 408.2 KB\n"
     ]
    }
   ],
   "source": [
    "train.info()"
   ]
  },
  {
   "cell_type": "code",
   "execution_count": 10,
   "id": "eda5653e",
   "metadata": {},
   "outputs": [
    {
     "name": "stdout",
     "output_type": "stream",
     "text": [
      "<class 'pandas.core.frame.DataFrame'>\n",
      "RangeIndex: 1633 entries, 0 to 1632\n",
      "Data columns (total 15 columns):\n",
      " #   Column  Non-Null Count  Dtype  \n",
      "---  ------  --------------  -----  \n",
      " 0   x1      1626 non-null   float64\n",
      " 1   x2      1631 non-null   float64\n",
      " 2   x3      1619 non-null   float64\n",
      " 3   x4      1633 non-null   float64\n",
      " 4   x5      1618 non-null   float64\n",
      " 5   x6      1627 non-null   float64\n",
      " 6   x7      1627 non-null   float64\n",
      " 7   x8      1620 non-null   float64\n",
      " 8   x9      1631 non-null   float64\n",
      " 9   x10     1629 non-null   float64\n",
      " 10  x11     1633 non-null   float64\n",
      " 11  x12     1630 non-null   float64\n",
      " 12  x13     1633 non-null   float64\n",
      " 13  x14     1633 non-null   float64\n",
      " 14  x15     1594 non-null   float64\n",
      "dtypes: float64(15)\n",
      "memory usage: 191.5 KB\n"
     ]
    }
   ],
   "source": [
    "test.info()"
   ]
  },
  {
   "cell_type": "code",
   "execution_count": 11,
   "id": "c51b6942",
   "metadata": {},
   "outputs": [
    {
     "data": {
      "text/html": [
       "<div>\n",
       "<style scoped>\n",
       "    .dataframe tbody tr th:only-of-type {\n",
       "        vertical-align: middle;\n",
       "    }\n",
       "\n",
       "    .dataframe tbody tr th {\n",
       "        vertical-align: top;\n",
       "    }\n",
       "\n",
       "    .dataframe thead th {\n",
       "        text-align: right;\n",
       "    }\n",
       "</style>\n",
       "<table border=\"1\" class=\"dataframe\">\n",
       "  <thead>\n",
       "    <tr style=\"text-align: right;\">\n",
       "      <th></th>\n",
       "      <th>x1</th>\n",
       "      <th>x2</th>\n",
       "      <th>x3</th>\n",
       "      <th>x4</th>\n",
       "      <th>x5</th>\n",
       "      <th>x6</th>\n",
       "      <th>x7</th>\n",
       "      <th>x8</th>\n",
       "      <th>x9</th>\n",
       "      <th>x10</th>\n",
       "      <th>x11</th>\n",
       "      <th>x12</th>\n",
       "      <th>x13</th>\n",
       "      <th>x14</th>\n",
       "      <th>x15</th>\n",
       "      <th>y</th>\n",
       "    </tr>\n",
       "  </thead>\n",
       "  <tbody>\n",
       "    <tr>\n",
       "      <th>count</th>\n",
       "      <td>3258.000000</td>\n",
       "      <td>3261.000000</td>\n",
       "      <td>3253.000000</td>\n",
       "      <td>3265.000000</td>\n",
       "      <td>3248.000000</td>\n",
       "      <td>3258.000000</td>\n",
       "      <td>3262.000000</td>\n",
       "      <td>3246.000000</td>\n",
       "      <td>3263.000000</td>\n",
       "      <td>3261.000000</td>\n",
       "      <td>3265.000000</td>\n",
       "      <td>3264.000000</td>\n",
       "      <td>3265.000000</td>\n",
       "      <td>3265.000000</td>\n",
       "      <td>3191.000000</td>\n",
       "      <td>3265.000000</td>\n",
       "    </tr>\n",
       "    <tr>\n",
       "      <th>mean</th>\n",
       "      <td>6.856292</td>\n",
       "      <td>0.277301</td>\n",
       "      <td>0.336846</td>\n",
       "      <td>69.016309</td>\n",
       "      <td>6.413608</td>\n",
       "      <td>0.045777</td>\n",
       "      <td>0.998058</td>\n",
       "      <td>35.345656</td>\n",
       "      <td>0.502590</td>\n",
       "      <td>0.831760</td>\n",
       "      <td>138.157580</td>\n",
       "      <td>0.994021</td>\n",
       "      <td>3.186873</td>\n",
       "      <td>0.489871</td>\n",
       "      <td>10.524632</td>\n",
       "      <td>5.887289</td>\n",
       "    </tr>\n",
       "    <tr>\n",
       "      <th>std</th>\n",
       "      <td>0.857740</td>\n",
       "      <td>0.101863</td>\n",
       "      <td>0.123391</td>\n",
       "      <td>21.432054</td>\n",
       "      <td>5.111197</td>\n",
       "      <td>0.021760</td>\n",
       "      <td>0.079613</td>\n",
       "      <td>16.582364</td>\n",
       "      <td>0.023241</td>\n",
       "      <td>0.305864</td>\n",
       "      <td>42.709637</td>\n",
       "      <td>0.003047</td>\n",
       "      <td>0.150802</td>\n",
       "      <td>0.114568</td>\n",
       "      <td>1.245047</td>\n",
       "      <td>0.885705</td>\n",
       "    </tr>\n",
       "    <tr>\n",
       "      <th>min</th>\n",
       "      <td>3.800000</td>\n",
       "      <td>0.080000</td>\n",
       "      <td>0.000000</td>\n",
       "      <td>4.500000</td>\n",
       "      <td>0.600000</td>\n",
       "      <td>0.009000</td>\n",
       "      <td>0.000300</td>\n",
       "      <td>2.000000</td>\n",
       "      <td>0.000300</td>\n",
       "      <td>0.010000</td>\n",
       "      <td>9.000000</td>\n",
       "      <td>0.987220</td>\n",
       "      <td>2.720000</td>\n",
       "      <td>0.220000</td>\n",
       "      <td>8.000000</td>\n",
       "      <td>3.000000</td>\n",
       "    </tr>\n",
       "    <tr>\n",
       "      <th>25%</th>\n",
       "      <td>6.300000</td>\n",
       "      <td>0.210000</td>\n",
       "      <td>0.270000</td>\n",
       "      <td>53.500000</td>\n",
       "      <td>1.700000</td>\n",
       "      <td>0.036000</td>\n",
       "      <td>0.995841</td>\n",
       "      <td>23.000000</td>\n",
       "      <td>0.488551</td>\n",
       "      <td>0.630000</td>\n",
       "      <td>107.000000</td>\n",
       "      <td>0.991700</td>\n",
       "      <td>3.080000</td>\n",
       "      <td>0.410000</td>\n",
       "      <td>9.500000</td>\n",
       "      <td>5.000000</td>\n",
       "    </tr>\n",
       "    <tr>\n",
       "      <th>50%</th>\n",
       "      <td>6.800000</td>\n",
       "      <td>0.260000</td>\n",
       "      <td>0.320000</td>\n",
       "      <td>66.500000</td>\n",
       "      <td>5.200000</td>\n",
       "      <td>0.043000</td>\n",
       "      <td>0.996853</td>\n",
       "      <td>34.000000</td>\n",
       "      <td>0.502427</td>\n",
       "      <td>0.780000</td>\n",
       "      <td>133.000000</td>\n",
       "      <td>0.993730</td>\n",
       "      <td>3.180000</td>\n",
       "      <td>0.470000</td>\n",
       "      <td>10.400000</td>\n",
       "      <td>6.000000</td>\n",
       "    </tr>\n",
       "    <tr>\n",
       "      <th>75%</th>\n",
       "      <td>7.300000</td>\n",
       "      <td>0.320000</td>\n",
       "      <td>0.390000</td>\n",
       "      <td>83.500000</td>\n",
       "      <td>9.900000</td>\n",
       "      <td>0.050000</td>\n",
       "      <td>0.998098</td>\n",
       "      <td>46.000000</td>\n",
       "      <td>0.515874</td>\n",
       "      <td>0.960000</td>\n",
       "      <td>167.000000</td>\n",
       "      <td>0.996200</td>\n",
       "      <td>3.280000</td>\n",
       "      <td>0.550000</td>\n",
       "      <td>11.400000</td>\n",
       "      <td>6.000000</td>\n",
       "    </tr>\n",
       "    <tr>\n",
       "      <th>max</th>\n",
       "      <td>14.200000</td>\n",
       "      <td>1.100000</td>\n",
       "      <td>1.660000</td>\n",
       "      <td>172.000000</td>\n",
       "      <td>65.800000</td>\n",
       "      <td>0.346000</td>\n",
       "      <td>5.432281</td>\n",
       "      <td>138.500000</td>\n",
       "      <td>0.580925</td>\n",
       "      <td>3.300000</td>\n",
       "      <td>344.000000</td>\n",
       "      <td>1.038980</td>\n",
       "      <td>3.810000</td>\n",
       "      <td>1.080000</td>\n",
       "      <td>14.050000</td>\n",
       "      <td>9.000000</td>\n",
       "    </tr>\n",
       "  </tbody>\n",
       "</table>\n",
       "</div>"
      ],
      "text/plain": [
       "                x1           x2           x3           x4           x5  \\\n",
       "count  3258.000000  3261.000000  3253.000000  3265.000000  3248.000000   \n",
       "mean      6.856292     0.277301     0.336846    69.016309     6.413608   \n",
       "std       0.857740     0.101863     0.123391    21.432054     5.111197   \n",
       "min       3.800000     0.080000     0.000000     4.500000     0.600000   \n",
       "25%       6.300000     0.210000     0.270000    53.500000     1.700000   \n",
       "50%       6.800000     0.260000     0.320000    66.500000     5.200000   \n",
       "75%       7.300000     0.320000     0.390000    83.500000     9.900000   \n",
       "max      14.200000     1.100000     1.660000   172.000000    65.800000   \n",
       "\n",
       "                x6           x7           x8           x9          x10  \\\n",
       "count  3258.000000  3262.000000  3246.000000  3263.000000  3261.000000   \n",
       "mean      0.045777     0.998058    35.345656     0.502590     0.831760   \n",
       "std       0.021760     0.079613    16.582364     0.023241     0.305864   \n",
       "min       0.009000     0.000300     2.000000     0.000300     0.010000   \n",
       "25%       0.036000     0.995841    23.000000     0.488551     0.630000   \n",
       "50%       0.043000     0.996853    34.000000     0.502427     0.780000   \n",
       "75%       0.050000     0.998098    46.000000     0.515874     0.960000   \n",
       "max       0.346000     5.432281   138.500000     0.580925     3.300000   \n",
       "\n",
       "               x11          x12          x13          x14          x15  \\\n",
       "count  3265.000000  3264.000000  3265.000000  3265.000000  3191.000000   \n",
       "mean    138.157580     0.994021     3.186873     0.489871    10.524632   \n",
       "std      42.709637     0.003047     0.150802     0.114568     1.245047   \n",
       "min       9.000000     0.987220     2.720000     0.220000     8.000000   \n",
       "25%     107.000000     0.991700     3.080000     0.410000     9.500000   \n",
       "50%     133.000000     0.993730     3.180000     0.470000    10.400000   \n",
       "75%     167.000000     0.996200     3.280000     0.550000    11.400000   \n",
       "max     344.000000     1.038980     3.810000     1.080000    14.050000   \n",
       "\n",
       "                 y  \n",
       "count  3265.000000  \n",
       "mean      5.887289  \n",
       "std       0.885705  \n",
       "min       3.000000  \n",
       "25%       5.000000  \n",
       "50%       6.000000  \n",
       "75%       6.000000  \n",
       "max       9.000000  "
      ]
     },
     "execution_count": 11,
     "metadata": {},
     "output_type": "execute_result"
    }
   ],
   "source": [
    "train.describe()"
   ]
  },
  {
   "cell_type": "code",
   "execution_count": 12,
   "id": "713690b0",
   "metadata": {},
   "outputs": [
    {
     "data": {
      "text/html": [
       "<div>\n",
       "<style scoped>\n",
       "    .dataframe tbody tr th:only-of-type {\n",
       "        vertical-align: middle;\n",
       "    }\n",
       "\n",
       "    .dataframe tbody tr th {\n",
       "        vertical-align: top;\n",
       "    }\n",
       "\n",
       "    .dataframe thead th {\n",
       "        text-align: right;\n",
       "    }\n",
       "</style>\n",
       "<table border=\"1\" class=\"dataframe\">\n",
       "  <thead>\n",
       "    <tr style=\"text-align: right;\">\n",
       "      <th></th>\n",
       "      <th>x1</th>\n",
       "      <th>x2</th>\n",
       "      <th>x3</th>\n",
       "      <th>x4</th>\n",
       "      <th>x5</th>\n",
       "      <th>x6</th>\n",
       "      <th>x7</th>\n",
       "      <th>x8</th>\n",
       "      <th>x9</th>\n",
       "      <th>x10</th>\n",
       "      <th>x11</th>\n",
       "      <th>x12</th>\n",
       "      <th>x13</th>\n",
       "      <th>x14</th>\n",
       "      <th>x15</th>\n",
       "    </tr>\n",
       "  </thead>\n",
       "  <tbody>\n",
       "    <tr>\n",
       "      <th>count</th>\n",
       "      <td>1626.000000</td>\n",
       "      <td>1631.000000</td>\n",
       "      <td>1619.000000</td>\n",
       "      <td>1633.000000</td>\n",
       "      <td>1618.000000</td>\n",
       "      <td>1627.000000</td>\n",
       "      <td>1627.000000</td>\n",
       "      <td>1620.000000</td>\n",
       "      <td>1631.000000</td>\n",
       "      <td>1629.000000</td>\n",
       "      <td>1633.000000</td>\n",
       "      <td>1630.000000</td>\n",
       "      <td>1633.000000</td>\n",
       "      <td>1633.000000</td>\n",
       "      <td>1594.000000</td>\n",
       "    </tr>\n",
       "    <tr>\n",
       "      <th>mean</th>\n",
       "      <td>6.852737</td>\n",
       "      <td>0.280187</td>\n",
       "      <td>0.329080</td>\n",
       "      <td>69.383344</td>\n",
       "      <td>6.324753</td>\n",
       "      <td>0.045794</td>\n",
       "      <td>1.004459</td>\n",
       "      <td>35.250000</td>\n",
       "      <td>0.504159</td>\n",
       "      <td>0.839936</td>\n",
       "      <td>138.766687</td>\n",
       "      <td>0.994039</td>\n",
       "      <td>3.191053</td>\n",
       "      <td>0.489798</td>\n",
       "      <td>10.490389</td>\n",
       "    </tr>\n",
       "    <tr>\n",
       "      <th>std</th>\n",
       "      <td>0.819261</td>\n",
       "      <td>0.098805</td>\n",
       "      <td>0.116509</td>\n",
       "      <td>21.040969</td>\n",
       "      <td>4.993304</td>\n",
       "      <td>0.022095</td>\n",
       "      <td>0.245073</td>\n",
       "      <td>17.813429</td>\n",
       "      <td>0.035054</td>\n",
       "      <td>0.297791</td>\n",
       "      <td>42.081938</td>\n",
       "      <td>0.002876</td>\n",
       "      <td>0.151404</td>\n",
       "      <td>0.113271</td>\n",
       "      <td>1.196761</td>\n",
       "    </tr>\n",
       "    <tr>\n",
       "      <th>min</th>\n",
       "      <td>4.400000</td>\n",
       "      <td>0.080000</td>\n",
       "      <td>0.000000</td>\n",
       "      <td>5.000000</td>\n",
       "      <td>0.600000</td>\n",
       "      <td>0.013000</td>\n",
       "      <td>0.993534</td>\n",
       "      <td>3.000000</td>\n",
       "      <td>0.445604</td>\n",
       "      <td>0.000000</td>\n",
       "      <td>10.000000</td>\n",
       "      <td>0.987110</td>\n",
       "      <td>2.790000</td>\n",
       "      <td>0.250000</td>\n",
       "      <td>8.400000</td>\n",
       "    </tr>\n",
       "    <tr>\n",
       "      <th>25%</th>\n",
       "      <td>6.300000</td>\n",
       "      <td>0.210000</td>\n",
       "      <td>0.260000</td>\n",
       "      <td>55.000000</td>\n",
       "      <td>1.700000</td>\n",
       "      <td>0.036000</td>\n",
       "      <td>0.995912</td>\n",
       "      <td>23.000000</td>\n",
       "      <td>0.489958</td>\n",
       "      <td>0.630000</td>\n",
       "      <td>110.000000</td>\n",
       "      <td>0.991840</td>\n",
       "      <td>3.090000</td>\n",
       "      <td>0.410000</td>\n",
       "      <td>9.500000</td>\n",
       "    </tr>\n",
       "    <tr>\n",
       "      <th>50%</th>\n",
       "      <td>6.800000</td>\n",
       "      <td>0.270000</td>\n",
       "      <td>0.310000</td>\n",
       "      <td>68.000000</td>\n",
       "      <td>5.100000</td>\n",
       "      <td>0.043000</td>\n",
       "      <td>0.996885</td>\n",
       "      <td>33.000000</td>\n",
       "      <td>0.502427</td>\n",
       "      <td>0.810000</td>\n",
       "      <td>136.000000</td>\n",
       "      <td>0.993780</td>\n",
       "      <td>3.180000</td>\n",
       "      <td>0.480000</td>\n",
       "      <td>10.400000</td>\n",
       "    </tr>\n",
       "    <tr>\n",
       "      <th>75%</th>\n",
       "      <td>7.300000</td>\n",
       "      <td>0.330000</td>\n",
       "      <td>0.380000</td>\n",
       "      <td>83.500000</td>\n",
       "      <td>9.800000</td>\n",
       "      <td>0.050000</td>\n",
       "      <td>0.998021</td>\n",
       "      <td>45.250000</td>\n",
       "      <td>0.515874</td>\n",
       "      <td>0.990000</td>\n",
       "      <td>167.000000</td>\n",
       "      <td>0.996047</td>\n",
       "      <td>3.280000</td>\n",
       "      <td>0.540000</td>\n",
       "      <td>11.300000</td>\n",
       "    </tr>\n",
       "    <tr>\n",
       "      <th>max</th>\n",
       "      <td>10.700000</td>\n",
       "      <td>0.930000</td>\n",
       "      <td>1.000000</td>\n",
       "      <td>220.000000</td>\n",
       "      <td>31.600000</td>\n",
       "      <td>0.290000</td>\n",
       "      <td>10.544433</td>\n",
       "      <td>289.000000</td>\n",
       "      <td>1.653452</td>\n",
       "      <td>2.790000</td>\n",
       "      <td>440.000000</td>\n",
       "      <td>1.010300</td>\n",
       "      <td>3.820000</td>\n",
       "      <td>1.060000</td>\n",
       "      <td>14.200000</td>\n",
       "    </tr>\n",
       "  </tbody>\n",
       "</table>\n",
       "</div>"
      ],
      "text/plain": [
       "                x1           x2           x3           x4           x5  \\\n",
       "count  1626.000000  1631.000000  1619.000000  1633.000000  1618.000000   \n",
       "mean      6.852737     0.280187     0.329080    69.383344     6.324753   \n",
       "std       0.819261     0.098805     0.116509    21.040969     4.993304   \n",
       "min       4.400000     0.080000     0.000000     5.000000     0.600000   \n",
       "25%       6.300000     0.210000     0.260000    55.000000     1.700000   \n",
       "50%       6.800000     0.270000     0.310000    68.000000     5.100000   \n",
       "75%       7.300000     0.330000     0.380000    83.500000     9.800000   \n",
       "max      10.700000     0.930000     1.000000   220.000000    31.600000   \n",
       "\n",
       "                x6           x7           x8           x9          x10  \\\n",
       "count  1627.000000  1627.000000  1620.000000  1631.000000  1629.000000   \n",
       "mean      0.045794     1.004459    35.250000     0.504159     0.839936   \n",
       "std       0.022095     0.245073    17.813429     0.035054     0.297791   \n",
       "min       0.013000     0.993534     3.000000     0.445604     0.000000   \n",
       "25%       0.036000     0.995912    23.000000     0.489958     0.630000   \n",
       "50%       0.043000     0.996885    33.000000     0.502427     0.810000   \n",
       "75%       0.050000     0.998021    45.250000     0.515874     0.990000   \n",
       "max       0.290000    10.544433   289.000000     1.653452     2.790000   \n",
       "\n",
       "               x11          x12          x13          x14          x15  \n",
       "count  1633.000000  1630.000000  1633.000000  1633.000000  1594.000000  \n",
       "mean    138.766687     0.994039     3.191053     0.489798    10.490389  \n",
       "std      42.081938     0.002876     0.151404     0.113271     1.196761  \n",
       "min      10.000000     0.987110     2.790000     0.250000     8.400000  \n",
       "25%     110.000000     0.991840     3.090000     0.410000     9.500000  \n",
       "50%     136.000000     0.993780     3.180000     0.480000    10.400000  \n",
       "75%     167.000000     0.996047     3.280000     0.540000    11.300000  \n",
       "max     440.000000     1.010300     3.820000     1.060000    14.200000  "
      ]
     },
     "execution_count": 12,
     "metadata": {},
     "output_type": "execute_result"
    }
   ],
   "source": [
    "test.describe()"
   ]
  },
  {
   "cell_type": "code",
   "execution_count": 13,
   "id": "f5026dec",
   "metadata": {},
   "outputs": [
    {
     "data": {
      "text/plain": [
       "x1      66\n",
       "x2     118\n",
       "x3      85\n",
       "x4     240\n",
       "x5     287\n",
       "x6     138\n",
       "x7     777\n",
       "x8     121\n",
       "x9     101\n",
       "x10    119\n",
       "x11    240\n",
       "x12    775\n",
       "x13     99\n",
       "x14     77\n",
       "x15     92\n",
       "y        7\n",
       "dtype: int64"
      ]
     },
     "execution_count": 13,
     "metadata": {},
     "output_type": "execute_result"
    }
   ],
   "source": [
    "train.nunique()"
   ]
  },
  {
   "cell_type": "markdown",
   "id": "ec08ef36",
   "metadata": {},
   "source": [
    "### missing values"
   ]
  },
  {
   "cell_type": "code",
   "execution_count": 14,
   "id": "d30c6cbe",
   "metadata": {
    "scrolled": false
   },
   "outputs": [
    {
     "data": {
      "text/plain": [
       "<AxesSubplot:>"
      ]
     },
     "execution_count": 14,
     "metadata": {},
     "output_type": "execute_result"
    },
    {
     "data": {
      "image/png": "[encoded data removed]",
      "text/plain": [
       "<Figure size 864x720 with 1 Axes>"
      ]
     },
     "metadata": {
      "needs_background": "light"
     },
     "output_type": "display_data"
    }
   ],
   "source": [
    "import seaborn as sns\n",
    "\n",
    "plt.subplots(figsize=(12,10))\n",
    "sns.heatmap(train.isnull(), cbar=False)"
   ]
  },
  {
   "cell_type": "code",
   "execution_count": 15,
   "id": "45ee47ad",
   "metadata": {},
   "outputs": [
    {
     "data": {
      "text/plain": [
       "<AxesSubplot:>"
      ]
     },
     "execution_count": 15,
     "metadata": {},
     "output_type": "execute_result"
    },
    {
     "data": {
      "image/png": "[encoded data removed]",
      "text/plain": [
       "<Figure size 864x720 with 1 Axes>"
      ]
     },
     "metadata": {
      "needs_background": "light"
     },
     "output_type": "display_data"
    }
   ],
   "source": [
    "plt.subplots(figsize=(12,10))\n",
    "sns.heatmap(test.isnull(), cbar=False)"
   ]
  },
  {
   "cell_type": "code",
   "execution_count": 16,
   "id": "947c47fd",
   "metadata": {},
   "outputs": [
    {
     "data": {
      "text/html": [
       "<div>\n",
       "<style scoped>\n",
       "    .dataframe tbody tr th:only-of-type {\n",
       "        vertical-align: middle;\n",
       "    }\n",
       "\n",
       "    .dataframe tbody tr th {\n",
       "        vertical-align: top;\n",
       "    }\n",
       "\n",
       "    .dataframe thead th {\n",
       "        text-align: right;\n",
       "    }\n",
       "</style>\n",
       "<table border=\"1\" class=\"dataframe\">\n",
       "  <thead>\n",
       "    <tr style=\"text-align: right;\">\n",
       "      <th></th>\n",
       "      <th>column_name</th>\n",
       "      <th>percent_missing</th>\n",
       "    </tr>\n",
       "  </thead>\n",
       "  <tbody>\n",
       "    <tr>\n",
       "      <th>x15</th>\n",
       "      <td>x15</td>\n",
       "      <td>2.266462</td>\n",
       "    </tr>\n",
       "    <tr>\n",
       "      <th>x8</th>\n",
       "      <td>x8</td>\n",
       "      <td>0.581930</td>\n",
       "    </tr>\n",
       "    <tr>\n",
       "      <th>x5</th>\n",
       "      <td>x5</td>\n",
       "      <td>0.520674</td>\n",
       "    </tr>\n",
       "    <tr>\n",
       "      <th>x3</th>\n",
       "      <td>x3</td>\n",
       "      <td>0.367534</td>\n",
       "    </tr>\n",
       "    <tr>\n",
       "      <th>x1</th>\n",
       "      <td>x1</td>\n",
       "      <td>0.214395</td>\n",
       "    </tr>\n",
       "    <tr>\n",
       "      <th>x6</th>\n",
       "      <td>x6</td>\n",
       "      <td>0.214395</td>\n",
       "    </tr>\n",
       "    <tr>\n",
       "      <th>x2</th>\n",
       "      <td>x2</td>\n",
       "      <td>0.122511</td>\n",
       "    </tr>\n",
       "    <tr>\n",
       "      <th>x10</th>\n",
       "      <td>x10</td>\n",
       "      <td>0.122511</td>\n",
       "    </tr>\n",
       "    <tr>\n",
       "      <th>x7</th>\n",
       "      <td>x7</td>\n",
       "      <td>0.091884</td>\n",
       "    </tr>\n",
       "    <tr>\n",
       "      <th>x9</th>\n",
       "      <td>x9</td>\n",
       "      <td>0.061256</td>\n",
       "    </tr>\n",
       "    <tr>\n",
       "      <th>x12</th>\n",
       "      <td>x12</td>\n",
       "      <td>0.030628</td>\n",
       "    </tr>\n",
       "    <tr>\n",
       "      <th>x4</th>\n",
       "      <td>x4</td>\n",
       "      <td>0.000000</td>\n",
       "    </tr>\n",
       "    <tr>\n",
       "      <th>x11</th>\n",
       "      <td>x11</td>\n",
       "      <td>0.000000</td>\n",
       "    </tr>\n",
       "    <tr>\n",
       "      <th>x13</th>\n",
       "      <td>x13</td>\n",
       "      <td>0.000000</td>\n",
       "    </tr>\n",
       "    <tr>\n",
       "      <th>x14</th>\n",
       "      <td>x14</td>\n",
       "      <td>0.000000</td>\n",
       "    </tr>\n",
       "    <tr>\n",
       "      <th>y</th>\n",
       "      <td>y</td>\n",
       "      <td>0.000000</td>\n",
       "    </tr>\n",
       "  </tbody>\n",
       "</table>\n",
       "</div>"
      ],
      "text/plain": [
       "    column_name  percent_missing\n",
       "x15         x15         2.266462\n",
       "x8           x8         0.581930\n",
       "x5           x5         0.520674\n",
       "x3           x3         0.367534\n",
       "x1           x1         0.214395\n",
       "x6           x6         0.214395\n",
       "x2           x2         0.122511\n",
       "x10         x10         0.122511\n",
       "x7           x7         0.091884\n",
       "x9           x9         0.061256\n",
       "x12         x12         0.030628\n",
       "x4           x4         0.000000\n",
       "x11         x11         0.000000\n",
       "x13         x13         0.000000\n",
       "x14         x14         0.000000\n",
       "y             y         0.000000"
      ]
     },
     "execution_count": 16,
     "metadata": {},
     "output_type": "execute_result"
    }
   ],
   "source": [
    "percent_missing = train.isnull().sum() * 100 / len(train)\n",
    "missing_value_df = pd.DataFrame({'column_name': train.columns,\n",
    "                                 'percent_missing': percent_missing})\n",
    "missing_value_df.sort_values('percent_missing', ascending=False)"
   ]
  },
  {
   "cell_type": "markdown",
   "id": "1b1eaaf2",
   "metadata": {},
   "source": [
    "### target"
   ]
  },
  {
   "cell_type": "code",
   "execution_count": 17,
   "id": "28604c8b",
   "metadata": {},
   "outputs": [
    {
     "data": {
      "text/plain": [
       "6    1471\n",
       "5     970\n",
       "7     583\n",
       "8     122\n",
       "4     102\n",
       "3      12\n",
       "9       5\n",
       "Name: y, dtype: int64"
      ]
     },
     "execution_count": 17,
     "metadata": {},
     "output_type": "execute_result"
    }
   ],
   "source": [
    "train['y'].value_counts()"
   ]
  },
  {
   "cell_type": "code",
   "execution_count": 18,
   "id": "58e706e6",
   "metadata": {},
   "outputs": [
    {
     "data": {
      "text/plain": [
       "<AxesSubplot:>"
      ]
     },
     "execution_count": 18,
     "metadata": {},
     "output_type": "execute_result"
    },
    {
     "data": {
      "image/png": "[encoded data removed]",
      "text/plain": [
       "<Figure size 432x288 with 1 Axes>"
      ]
     },
     "metadata": {
      "needs_background": "light"
     },
     "output_type": "display_data"
    }
   ],
   "source": [
    "train['y'].value_counts().plot.bar()"
   ]
  },
  {
   "cell_type": "code",
   "execution_count": 19,
   "id": "6b90828e",
   "metadata": {},
   "outputs": [],
   "source": [
    "# sns.pairplot(train, vars=train.columns[:-1], hue='y', diag_kind=\"hist\", palette=sns.color_palette(\"hls\", 7))"
   ]
  },
  {
   "cell_type": "code",
   "execution_count": 20,
   "id": "835c7874",
   "metadata": {},
   "outputs": [],
   "source": [
    "# ind = test[test['x3'].isnull()].index"
   ]
  },
  {
   "cell_type": "code",
   "execution_count": 21,
   "id": "1faac8a7",
   "metadata": {},
   "outputs": [],
   "source": [
    "# test.iloc[ind]"
   ]
  },
  {
   "cell_type": "code",
   "execution_count": 22,
   "id": "3b69f2ec",
   "metadata": {},
   "outputs": [],
   "source": [
    "# train['x3'].mean()"
   ]
  },
  {
   "cell_type": "code",
   "execution_count": 23,
   "id": "b6e8e7e8",
   "metadata": {},
   "outputs": [],
   "source": [
    "# test['x3'].mean()"
   ]
  },
  {
   "cell_type": "markdown",
   "id": "8f46c7d6",
   "metadata": {},
   "source": [
    "## Feature Imputation (Missing Values)"
   ]
  },
  {
   "cell_type": "code",
   "execution_count": 24,
   "id": "dc66b487",
   "metadata": {},
   "outputs": [],
   "source": [
    "imputed_train = train.copy()\n",
    "imputed_test = test.copy()"
   ]
  },
  {
   "cell_type": "code",
   "execution_count": 25,
   "id": "52d57d8f",
   "metadata": {},
   "outputs": [],
   "source": [
    "from sklearn.impute import SimpleImputer\n",
    "\n",
    "imputer = SimpleImputer(missing_values = np.nan, strategy ='mean')\n",
    "\n",
    "#fit and transform on training data\n",
    "imputed_train_array = imputer.fit_transform(train.drop(columns='y'))\n",
    "\n",
    "#apply transform on the test data \n",
    "imputed_test_array = imputer.transform(test)"
   ]
  },
  {
   "cell_type": "code",
   "execution_count": 26,
   "id": "62196c62",
   "metadata": {},
   "outputs": [
    {
     "data": {
      "text/plain": [
       "0.33684598831847357"
      ]
     },
     "execution_count": 26,
     "metadata": {},
     "output_type": "execute_result"
    }
   ],
   "source": [
    "train['x3'].mean()"
   ]
  },
  {
   "cell_type": "code",
   "execution_count": 27,
   "id": "6c49785c",
   "metadata": {},
   "outputs": [],
   "source": [
    "imputed_train.loc[:, :'x15'] = imputed_train_array\n",
    "imputed_test.loc[:, :'x15'] = imputed_test_array"
   ]
  },
  {
   "cell_type": "code",
   "execution_count": 28,
   "id": "4808f7f3",
   "metadata": {},
   "outputs": [
    {
     "data": {
      "text/plain": [
       "x1     0\n",
       "x2     0\n",
       "x3     0\n",
       "x4     0\n",
       "x5     0\n",
       "x6     0\n",
       "x7     0\n",
       "x8     0\n",
       "x9     0\n",
       "x10    0\n",
       "x11    0\n",
       "x12    0\n",
       "x13    0\n",
       "x14    0\n",
       "x15    0\n",
       "y      0\n",
       "dtype: int64"
      ]
     },
     "execution_count": 28,
     "metadata": {},
     "output_type": "execute_result"
    }
   ],
   "source": [
    "imputed_train.isnull().sum()"
   ]
  },
  {
   "cell_type": "code",
   "execution_count": 29,
   "id": "640b414a",
   "metadata": {},
   "outputs": [
    {
     "data": {
      "text/plain": [
       "x1     0\n",
       "x2     0\n",
       "x3     0\n",
       "x4     0\n",
       "x5     0\n",
       "x6     0\n",
       "x7     0\n",
       "x8     0\n",
       "x9     0\n",
       "x10    0\n",
       "x11    0\n",
       "x12    0\n",
       "x13    0\n",
       "x14    0\n",
       "x15    0\n",
       "dtype: int64"
      ]
     },
     "execution_count": 29,
     "metadata": {},
     "output_type": "execute_result"
    }
   ],
   "source": [
    "imputed_test.isnull().sum()"
   ]
  },
  {
   "cell_type": "markdown",
   "id": "9653cd97",
   "metadata": {},
   "source": [
    "## Feature Scaling"
   ]
  },
  {
   "cell_type": "code",
   "execution_count": 30,
   "id": "2ce53aaf",
   "metadata": {},
   "outputs": [],
   "source": [
    "feature_scalled_train = imputed_train.copy()\n",
    "feature_scalled_test = imputed_test.copy()"
   ]
  },
  {
   "cell_type": "code",
   "execution_count": 31,
   "id": "0d1518bf",
   "metadata": {},
   "outputs": [
    {
     "data": {
      "text/plain": [
       "Index(['x1', 'x2', 'x3', 'x4', 'x5', 'x6', 'x7', 'x8', 'x9', 'x10', 'x11',\n",
       "       'x12', 'x13', 'x14', 'x15'],\n",
       "      dtype='object')"
      ]
     },
     "execution_count": 31,
     "metadata": {},
     "output_type": "execute_result"
    }
   ],
   "source": [
    "impute_cols = feature_scalled_test.columns\n",
    "impute_cols"
   ]
  },
  {
   "cell_type": "code",
   "execution_count": 32,
   "id": "4106c581",
   "metadata": {},
   "outputs": [],
   "source": [
    "### Feature Scaling\n",
    "from sklearn.preprocessing import StandardScaler, MinMaxScaler\n",
    "sc = StandardScaler()\n",
    "\n",
    "feature_scalled_train[impute_cols] = sc.fit_transform(feature_scalled_train[impute_cols].values)"
   ]
  },
  {
   "cell_type": "code",
   "execution_count": 33,
   "id": "758a6a0b",
   "metadata": {},
   "outputs": [],
   "source": [
    "feature_scalled_test[impute_cols] = sc.transform(feature_scalled_test[impute_cols].values)"
   ]
  },
  {
   "cell_type": "code",
   "execution_count": 34,
   "id": "f8062a95",
   "metadata": {},
   "outputs": [
    {
     "data": {
      "text/html": [
       "<div>\n",
       "<style scoped>\n",
       "    .dataframe tbody tr th:only-of-type {\n",
       "        vertical-align: middle;\n",
       "    }\n",
       "\n",
       "    .dataframe tbody tr th {\n",
       "        vertical-align: top;\n",
       "    }\n",
       "\n",
       "    .dataframe thead th {\n",
       "        text-align: right;\n",
       "    }\n",
       "</style>\n",
       "<table border=\"1\" class=\"dataframe\">\n",
       "  <thead>\n",
       "    <tr style=\"text-align: right;\">\n",
       "      <th></th>\n",
       "      <th>x1</th>\n",
       "      <th>x2</th>\n",
       "      <th>x3</th>\n",
       "      <th>x4</th>\n",
       "      <th>x5</th>\n",
       "      <th>x6</th>\n",
       "      <th>x7</th>\n",
       "      <th>x8</th>\n",
       "      <th>x9</th>\n",
       "      <th>x10</th>\n",
       "      <th>x11</th>\n",
       "      <th>x12</th>\n",
       "      <th>x13</th>\n",
       "      <th>x14</th>\n",
       "      <th>x15</th>\n",
       "      <th>y</th>\n",
       "    </tr>\n",
       "  </thead>\n",
       "  <tbody>\n",
       "    <tr>\n",
       "      <th>0</th>\n",
       "      <td>-1.933365</td>\n",
       "      <td>0.615993</td>\n",
       "      <td>0.269227</td>\n",
       "      <td>-0.117427</td>\n",
       "      <td>-0.041908</td>\n",
       "      <td>-0.679902</td>\n",
       "      <td>-0.033793</td>\n",
       "      <td>0.402525</td>\n",
       "      <td>0.400068</td>\n",
       "      <td>0.615907</td>\n",
       "      <td>-0.120778</td>\n",
       "      <td>-1.070540</td>\n",
       "      <td>0.418672</td>\n",
       "      <td>-0.697257</td>\n",
       "      <td>1.605124</td>\n",
       "      <td>6</td>\n",
       "    </tr>\n",
       "    <tr>\n",
       "      <th>1</th>\n",
       "      <td>-0.882808</td>\n",
       "      <td>1.303720</td>\n",
       "      <td>-2.735352</td>\n",
       "      <td>-1.190750</td>\n",
       "      <td>-0.944384</td>\n",
       "      <td>0.792489</td>\n",
       "      <td>-0.029753</td>\n",
       "      <td>0.039582</td>\n",
       "      <td>0.514763</td>\n",
       "      <td>1.303012</td>\n",
       "      <td>-1.197983</td>\n",
       "      <td>-0.860461</td>\n",
       "      <td>0.551317</td>\n",
       "      <td>1.572478</td>\n",
       "      <td>0.223756</td>\n",
       "      <td>6</td>\n",
       "    </tr>\n",
       "    <tr>\n",
       "      <th>2</th>\n",
       "      <td>0.751390</td>\n",
       "      <td>-0.169981</td>\n",
       "      <td>-0.299207</td>\n",
       "      <td>-1.074084</td>\n",
       "      <td>-0.355813</td>\n",
       "      <td>-0.863950</td>\n",
       "      <td>-0.033224</td>\n",
       "      <td>-0.383852</td>\n",
       "      <td>-0.184208</td>\n",
       "      <td>-0.169356</td>\n",
       "      <td>-1.080895</td>\n",
       "      <td>-1.040998</td>\n",
       "      <td>-0.244549</td>\n",
       "      <td>-0.959150</td>\n",
       "      <td>1.198839</td>\n",
       "      <td>7</td>\n",
       "    </tr>\n",
       "    <tr>\n",
       "      <th>3</th>\n",
       "      <td>0.634662</td>\n",
       "      <td>-0.759462</td>\n",
       "      <td>-0.380412</td>\n",
       "      <td>-0.887419</td>\n",
       "      <td>-0.924765</td>\n",
       "      <td>0.056294</td>\n",
       "      <td>-0.023253</td>\n",
       "      <td>-1.170230</td>\n",
       "      <td>0.571848</td>\n",
       "      <td>-0.758303</td>\n",
       "      <td>-0.893555</td>\n",
       "      <td>-0.522365</td>\n",
       "      <td>0.617639</td>\n",
       "      <td>-0.348067</td>\n",
       "      <td>0.061242</td>\n",
       "      <td>6</td>\n",
       "    </tr>\n",
       "    <tr>\n",
       "      <th>4</th>\n",
       "      <td>0.517933</td>\n",
       "      <td>-0.464721</td>\n",
       "      <td>-0.786436</td>\n",
       "      <td>-1.214083</td>\n",
       "      <td>-1.081717</td>\n",
       "      <td>-0.679902</td>\n",
       "      <td>-0.043266</td>\n",
       "      <td>-0.383852</td>\n",
       "      <td>-1.730153</td>\n",
       "      <td>-0.463829</td>\n",
       "      <td>-1.221400</td>\n",
       "      <td>-1.562913</td>\n",
       "      <td>-1.902602</td>\n",
       "      <td>-0.959150</td>\n",
       "      <td>1.361353</td>\n",
       "      <td>6</td>\n",
       "    </tr>\n",
       "  </tbody>\n",
       "</table>\n",
       "</div>"
      ],
      "text/plain": [
       "         x1        x2        x3        x4        x5        x6        x7  \\\n",
       "0 -1.933365  0.615993  0.269227 -0.117427 -0.041908 -0.679902 -0.033793   \n",
       "1 -0.882808  1.303720 -2.735352 -1.190750 -0.944384  0.792489 -0.029753   \n",
       "2  0.751390 -0.169981 -0.299207 -1.074084 -0.355813 -0.863950 -0.033224   \n",
       "3  0.634662 -0.759462 -0.380412 -0.887419 -0.924765  0.056294 -0.023253   \n",
       "4  0.517933 -0.464721 -0.786436 -1.214083 -1.081717 -0.679902 -0.043266   \n",
       "\n",
       "         x8        x9       x10       x11       x12       x13       x14  \\\n",
       "0  0.402525  0.400068  0.615907 -0.120778 -1.070540  0.418672 -0.697257   \n",
       "1  0.039582  0.514763  1.303012 -1.197983 -0.860461  0.551317  1.572478   \n",
       "2 -0.383852 -0.184208 -0.169356 -1.080895 -1.040998 -0.244549 -0.959150   \n",
       "3 -1.170230  0.571848 -0.758303 -0.893555 -0.522365  0.617639 -0.348067   \n",
       "4 -0.383852 -1.730153 -0.463829 -1.221400 -1.562913 -1.902602 -0.959150   \n",
       "\n",
       "        x15  y  \n",
       "0  1.605124  6  \n",
       "1  0.223756  6  \n",
       "2  1.198839  7  \n",
       "3  0.061242  6  \n",
       "4  1.361353  6  "
      ]
     },
     "execution_count": 34,
     "metadata": {},
     "output_type": "execute_result"
    }
   ],
   "source": [
    "feature_scalled_train.head()"
   ]
  },
  {
   "cell_type": "markdown",
   "id": "8b81d19f",
   "metadata": {},
   "source": [
    "## Save Dataframe"
   ]
  },
  {
   "cell_type": "code",
   "execution_count": 35,
   "id": "6c917f4e",
   "metadata": {},
   "outputs": [],
   "source": [
    "feature_scalled_train.to_csv(\"180668D_lab1_train.csv\")"
   ]
  },
  {
   "cell_type": "code",
   "execution_count": 36,
   "id": "06714f2d",
   "metadata": {},
   "outputs": [],
   "source": [
    "feature_scalled_test.to_csv(\"180668D_lab1_test.csv\")"
   ]
  },
  {
   "cell_type": "code",
   "execution_count": null,
   "id": "6967536f",
   "metadata": {},
   "outputs": [],
   "source": []
  },
  {
   "cell_type": "code",
   "execution_count": null,
   "id": "16fad59e",
   "metadata": {},
   "outputs": [],
   "source": []
  }
 ],
 "metadata": {
  "kernelspec": {
   "display_name": "Python 3.8.0 64-bit",
   "language": "python",
   "name": "python3"
  },
  "language_info": {
   "codemirror_mode": {
    "name": "ipython",
    "version": 3
   },
   "file_extension": ".py",
   "mimetype": "text/x-python",
   "name": "python",
   "nbconvert_exporter": "python",
   "pygments_lexer": "ipython3",
   "version": "3.8.0"
  },
  "toc": {
   "base_numbering": 1,
   "nav_menu": {},
   "number_sections": true,
   "sideBar": true,
   "skip_h1_title": false,
   "title_cell": "Table of Contents",
   "title_sidebar": "Contents",
   "toc_cell": true,
   "toc_position": {},
   "toc_section_display": true,
   "toc_window_display": false
  },
  "vscode": {
   "interpreter": {
    "hash": "bcc88a5c2b6accdcaf39c87a931cb715cc1ab684beb32819a99a5a377f971b8d"
   }
  }
 },
 "nbformat": 4,
 "nbformat_minor": 5
}
